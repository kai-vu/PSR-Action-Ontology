{
 "cells": [
  {
   "cell_type": "code",
   "execution_count": 18,
   "id": "1bd45db8",
   "metadata": {},
   "outputs": [],
   "source": [
    "import pandas as pd\n",
    "import os\n",
    "import re"
   ]
  },
  {
   "cell_type": "code",
   "execution_count": 14,
   "id": "618cf5ac",
   "metadata": {},
   "outputs": [],
   "source": [
    "run_folders = ['../../output/run1/validation/summary-statistics', '../../output/run2/validation/summary-statistics', \n",
    "               '../../output/run3/validation/summary-statistics']\n",
    "graph_types = ['summary_observation', 'summary_action']"
   ]
  },
  {
   "cell_type": "code",
   "execution_count": 21,
   "id": "5e748235",
   "metadata": {},
   "outputs": [
    {
     "name": "stdout",
     "output_type": "stream",
     "text": [
      "   run   graph_type    method  Full Parse OK  Total triples in KG  \\\n",
      "0    1  observation       dpe           True                   17   \n",
      "1    1  observation      i2kg           True                   31   \n",
      "2    1  observation      d2kg           True                   99   \n",
      "3    1  observation  d2kg-rag           True                   89   \n",
      "4    1  observation       dpe           True                   35   \n",
      "\n",
      "   Valid triples  Invalid triples  Distinct classes used  Class Compliance  \\\n",
      "0             17                0                      0               0.0   \n",
      "1             31                0                      5               0.0   \n",
      "2             99                0                      6               1.0   \n",
      "3             89                0                      6               1.0   \n",
      "4             35                0                      0               0.0   \n",
      "\n",
      "   Class Coverage  Distinct properties used  Property Compliance  \\\n",
      "0            0.00                         2                 0.00   \n",
      "1            0.00                         9                 0.00   \n",
      "2            0.75                         5                 0.80   \n",
      "3            0.75                         8                 0.75   \n",
      "4            0.00                         7                 0.00   \n",
      "\n",
      "   Property Coverage   \n",
      "0                 0.0  \n",
      "1                 0.0  \n",
      "2                 1.0  \n",
      "3                 1.0  \n",
      "4                 0.0  \n"
     ]
    }
   ],
   "source": [
    "all_dfs = []\n",
    "\n",
    "method_pattern = re.compile(r'graph/([^/]+)/kg\\.ttl')\n",
    "\n",
    "for run_index, folder in enumerate(run_folders, start=1):\n",
    "    for graph_type in graph_types:\n",
    "        file_path = os.path.join(folder, f\"{graph_type}.csv\")\n",
    "        df = pd.read_csv(file_path, index_col=False)\n",
    "        first_column = df.columns[0]\n",
    "        df.rename(columns={first_column: 'file_path'}, inplace=True)\n",
    "        df['method'] = df['file_path'].astype(str).apply(\n",
    "            lambda x: method_pattern.search(x).group(1) if method_pattern.search(x) else 'UNKNOWN'\n",
    "        )\n",
    "        df['run'] = run_index\n",
    "        df['graph_type'] = graph_type.replace('summary_', '')\n",
    "        columns = ['run', 'graph_type', 'method'] + [\n",
    "            col for col in df.columns if col not in ['file_path', 'run', 'graph_type', 'method']\n",
    "        ]\n",
    "        df = df[columns]\n",
    "        all_dfs.append(df)\n",
    "\n",
    "merged_df = pd.concat(all_dfs, ignore_index=True)\n",
    "percentage_columns = [\n",
    "    col for col in merged_df.columns\n",
    "    if merged_df[col].astype(str).str.contains('%').any()\n",
    "]\n",
    "for col in percentage_columns:\n",
    "    merged_df[col] = (\n",
    "        merged_df[col].astype(str)\n",
    "        .str.replace('%', '', regex=False)\n",
    "        .replace('', '0')\n",
    "        .astype(float) / 100\n",
    "    )\n",
    "#merged_df.to_csv('merged_output.csv', index=False)\n",
    "print(merged_df.head())"
   ]
  }
 ],
 "metadata": {
  "kernelspec": {
   "display_name": "base",
   "language": "python",
   "name": "python3"
  },
  "language_info": {
   "codemirror_mode": {
    "name": "ipython",
    "version": 3
   },
   "file_extension": ".py",
   "mimetype": "text/x-python",
   "name": "python",
   "nbconvert_exporter": "python",
   "pygments_lexer": "ipython3",
   "version": "3.12.2"
  }
 },
 "nbformat": 4,
 "nbformat_minor": 5
}
