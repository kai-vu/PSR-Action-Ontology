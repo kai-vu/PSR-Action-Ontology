{
 "cells": [
  {
   "cell_type": "code",
   "execution_count": 1,
   "id": "1bd45db8",
   "metadata": {},
   "outputs": [],
   "source": [
    "import matplotlib.pyplot as plt\n",
    "import pandas as pd\n",
    "import numpy as np"
   ]
  },
  {
   "cell_type": "code",
   "execution_count": null,
   "id": "c8f21f91",
   "metadata": {},
   "outputs": [],
   "source": [
    "data_llama3 = {\n",
    "    'Metric': ['Class Compliance', 'Class Coverage', 'Property Compliance', 'Property Coverage'],\n",
    "    'OG': [83.3, 50.0, 80.0, 66.7],\n",
    "    'AG': [100.0, 50.0, 88.9, 100.0],\n",
    "}\n"
   ]
  }
 ],
 "metadata": {
  "kernelspec": {
   "display_name": "base",
   "language": "python",
   "name": "python3"
  },
  "language_info": {
   "codemirror_mode": {
    "name": "ipython",
    "version": 3
   },
   "file_extension": ".py",
   "mimetype": "text/x-python",
   "name": "python",
   "nbconvert_exporter": "python",
   "pygments_lexer": "ipython3",
   "version": "3.12.2"
  }
 },
 "nbformat": 4,
 "nbformat_minor": 5
}
